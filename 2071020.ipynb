{
  "nbformat": 4,
  "nbformat_minor": 0,
  "metadata": {
    "colab": {
      "provenance": []
    },
    "kernelspec": {
      "name": "python3",
      "display_name": "Python 3"
    },
    "language_info": {
      "name": "python"
    },
    "accelerator": "GPU",
    "gpuClass": "standard"
  },
  "cells": [
    {
      "cell_type": "markdown",
      "source": [
        "# 2024-1 Artificial Intelligence (01)\n",
        "## Homework #2: Implementation of a CNN with TensforFlow Keras\n",
        "---\n",
        "Copyright (c) Prof. Jaehyeong Sim\n",
        "\n",
        "Department of Computer Science and Engineering\n",
        "\n",
        "ELTEC College of Engineering\n",
        "\n",
        "Ewha Womans University"
      ],
      "metadata": {
        "id": "pK9aistRVKZC"
      }
    },
    {
      "cell_type": "markdown",
      "source": [
        "## Guideline\n",
        "### Introduction\n",
        "> Here in this homework assignment 2, we will implement a CNN using TensorFlow Keras library.\n",
        "\n",
        "### Your job\n",
        "1. Please complete the code. You only have to write the parts marked as **### Please fill here**.\n",
        "2. Please run your code with GPU session\n",
        "3. Please answer the questions at the bottom of this notebook.\n",
        "\n",
        "### Submission guide\n",
        "1. Please rename the completed skeleton file to ***STUDENT_ID*.ipynb**. Your own student ID goes to *STUDENT_ID*. For example, if your student ID is 2412345, the file name should be **2412345.ipynb**\n",
        "2. Turn in it into the Ewha CyberCampus\n",
        "\n",
        "⚠ If you doesn't follow the submission guide above, you will get **5 point deduction** from this homework score."
      ],
      "metadata": {
        "id": "_rJoMiOF8HS6"
      }
    },
    {
      "cell_type": "markdown",
      "source": [
        "### Importing necessary libraries"
      ],
      "metadata": {
        "id": "7FNIHr8IV3fq"
      }
    },
    {
      "cell_type": "code",
      "source": [
        "import tensorflow.keras as keras\n",
        "from tensorflow.keras import models\n",
        "from tensorflow.keras import layers\n",
        "from tensorflow.keras.datasets import mnist\n",
        "import matplotlib.pyplot as plt"
      ],
      "metadata": {
        "id": "2S8zaznokgW3"
      },
      "execution_count": 87,
      "outputs": []
    },
    {
      "cell_type": "markdown",
      "source": [
        "### Loading and preprocessing MNIST dataset"
      ],
      "metadata": {
        "id": "StfkcSSSIIFt"
      }
    },
    {
      "cell_type": "code",
      "source": [
        "(X_train, y_train), (X_valid, y_valid) = mnist.load_data()\n",
        "X_train = X_train.reshape(60000, 28, 28, 1).astype('float32')\n",
        "X_valid = X_valid.reshape(10000, 28, 28, 1).astype('float32')\n",
        "X_train /= 255\n",
        "X_valid /= 255\n",
        "n_classes = 10\n",
        "y_train = keras.utils.to_categorical(y_train, n_classes)\n",
        "y_valid = keras.utils.to_categorical(y_valid, n_classes)"
      ],
      "metadata": {
        "id": "S2riqfri_mPE"
      },
      "execution_count": 88,
      "outputs": []
    },
    {
      "cell_type": "code",
      "source": [
        "print(\"X_train shape:\", X_train.shape)\n",
        "print(\"X_valid shape:\", X_valid.shape)\n",
        "print(\"X_train dtype:\", X_train.dtype)\n",
        "print(\"X_valid dtype:\", X_valid.dtype)"
      ],
      "metadata": {
        "colab": {
          "base_uri": "https://localhost:8080/"
        },
        "id": "Rt9IQdOMNHP9",
        "outputId": "dcf6074b-7a25-4b4f-9c08-3721506cc900"
      },
      "execution_count": 89,
      "outputs": [
        {
          "output_type": "stream",
          "name": "stdout",
          "text": [
            "X_train shape: (60000, 28, 28, 1)\n",
            "X_valid shape: (10000, 28, 28, 1)\n",
            "X_train dtype: float32\n",
            "X_valid dtype: float32\n"
          ]
        }
      ]
    },
    {
      "cell_type": "markdown",
      "source": [
        "### Define residual block\n",
        "**Parameters:**\n",
        "*   x: input\n",
        "*   ch: output channel size\n",
        "*   k: kernel size\n",
        "\n",
        "**Return:**\n",
        "*   final output\n",
        "\n",
        "**The diagram of residual block:**\n",
        "\n",
        "![[2023-1 AI] HW2.png](data:image/png;base64,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)"
      ],
      "metadata": {
        "id": "pFeEgw9QIMX_"
      }
    },
    {
      "cell_type": "code",
      "source": [
        "def ResidualBlock(x, ch, k):\n",
        "    # 처음 입력 저장용\n",
        "    shortcut = x\n",
        "\n",
        "    #첫번째 conv2d k*k 그림대로라면 k = 3\n",
        "    x = layers.Conv2D(ch, kernel_size=(k,k), padding='same')(x)\n",
        "    x = layers.BatchNormalization()(x)\n",
        "    x = layers.ReLU()(x)\n",
        "\n",
        "    #두번째 con2d k*k\n",
        "    x = layers.Conv2D(ch, kernel_size=(k,k), padding='same')(x)\n",
        "    x = layers.BatchNormalization()(x)\n",
        "\n",
        "    # shortcut 연결에 대한 차원 맞추기\n",
        "    if shortcut.shape[-1] != ch:\n",
        "        shortcut = layers.Conv2D(ch, (1, 1), padding='same')(shortcut)\n",
        "\n",
        "    x = layers.Add()([x, shortcut])\n",
        "    x = layers.ReLU()(x)\n",
        "\n",
        "    return x"
      ],
      "metadata": {
        "id": "rjAYVzZq5luY"
      },
      "execution_count": 90,
      "outputs": []
    },
    {
      "cell_type": "markdown",
      "source": [
        "### Define the whole network\n",
        "**The diagram of ResNet7:**\n",
        "\n",
        "![Frame 2.png](data:image/png;base64,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)"
      ],
      "metadata": {
        "id": "BAg1n3rTIP9h"
      }
    },
    {
      "cell_type": "markdown",
      "source": [
        "### regularization 안 거친 기본 RestNet7"
      ],
      "metadata": {
        "id": "sC9iDazNeRRQ"
      }
    },
    {
      "cell_type": "code",
      "source": [
        "def ResNet7():\n",
        "  inputs = layers.Input(shape = (28, 28, 1))\n",
        "\n",
        "  #첫번째\n",
        "  x = layers.Conv2D(16, (7, 7), strides=2, padding='same', activation='relu')(inputs)\n",
        "\n",
        "  #두번째\n",
        "  x = ResidualBlock(x, 32, 3)\n",
        "\n",
        "  #세번째\n",
        "  x = layers.MaxPooling2D((2, 2), strides=3)(x)\n",
        "\n",
        "  #네번째\n",
        "  x = ResidualBlock(x, 64, 3)\n",
        "\n",
        "  #다섯번째\n",
        "  x = layers.MaxPooling2D((2, 2), strides=2)(x)\n",
        "\n",
        "  #여섯번재\n",
        "  x = layers.Flatten()(x)\n",
        "\n",
        "  #일곱번째\n",
        "  x = layers.Dense(100, activation='relu')(x)\n",
        "\n",
        "  #마지막 SOFTMAX\n",
        "  x = layers.Dense(10, activation='softmax')(x)\n",
        "\n",
        "  model = models.Model(inputs=inputs, outputs=x)\n",
        "\n",
        "  model.compile(loss='categorical_crossentropy',\n",
        "              optimizer=keras.optimizers.Adam(),\n",
        "              metrics=['accuracy'])\n",
        "\n",
        "\n",
        "  return model\n"
      ],
      "metadata": {
        "id": "ZUGndhfd9azg"
      },
      "execution_count": 109,
      "outputs": []
    },
    {
      "cell_type": "code",
      "source": [
        "model = ResNet7()"
      ],
      "metadata": {
        "id": "B_PJMpCP_cPU"
      },
      "execution_count": 110,
      "outputs": []
    },
    {
      "cell_type": "markdown",
      "source": [
        "### Training loop"
      ],
      "metadata": {
        "id": "ECFjxpdCIXiq"
      }
    },
    {
      "cell_type": "code",
      "source": [
        "history_no_regularization  = model.fit(\n",
        "    X_train,\n",
        "    y_train,\n",
        "    batch_size = 256,\n",
        "    epochs = 20,\n",
        "\t  verbose = 1,\n",
        "    validation_data=(X_valid, y_valid))"
      ],
      "metadata": {
        "id": "TnPd-_iJ_f3l",
        "colab": {
          "base_uri": "https://localhost:8080/"
        },
        "outputId": "e6c7bfba-96a8-490d-f44a-9a4702b0b96b"
      },
      "execution_count": 111,
      "outputs": [
        {
          "output_type": "stream",
          "name": "stdout",
          "text": [
            "Epoch 1/20\n",
            "235/235 [==============================] - 6s 13ms/step - loss: 0.2125 - accuracy: 0.9366 - val_loss: 1.6017 - val_accuracy: 0.3080\n",
            "Epoch 2/20\n",
            "235/235 [==============================] - 2s 9ms/step - loss: 0.0504 - accuracy: 0.9841 - val_loss: 0.1744 - val_accuracy: 0.9490\n",
            "Epoch 3/20\n",
            "235/235 [==============================] - 2s 9ms/step - loss: 0.0329 - accuracy: 0.9898 - val_loss: 0.0499 - val_accuracy: 0.9831\n",
            "Epoch 4/20\n",
            "235/235 [==============================] - 2s 9ms/step - loss: 0.0225 - accuracy: 0.9928 - val_loss: 0.0436 - val_accuracy: 0.9864\n",
            "Epoch 5/20\n",
            "235/235 [==============================] - 2s 9ms/step - loss: 0.0169 - accuracy: 0.9944 - val_loss: 0.0365 - val_accuracy: 0.9879\n",
            "Epoch 6/20\n",
            "235/235 [==============================] - 3s 11ms/step - loss: 0.0139 - accuracy: 0.9954 - val_loss: 0.0582 - val_accuracy: 0.9828\n",
            "Epoch 7/20\n",
            "235/235 [==============================] - 3s 13ms/step - loss: 0.0118 - accuracy: 0.9963 - val_loss: 0.0943 - val_accuracy: 0.9736\n",
            "Epoch 8/20\n",
            "235/235 [==============================] - 2s 9ms/step - loss: 0.0097 - accuracy: 0.9969 - val_loss: 0.0447 - val_accuracy: 0.9869\n",
            "Epoch 9/20\n",
            "235/235 [==============================] - 2s 9ms/step - loss: 0.0107 - accuracy: 0.9963 - val_loss: 0.0355 - val_accuracy: 0.9900\n",
            "Epoch 10/20\n",
            "235/235 [==============================] - 3s 12ms/step - loss: 0.0092 - accuracy: 0.9968 - val_loss: 0.0453 - val_accuracy: 0.9871\n",
            "Epoch 11/20\n",
            "235/235 [==============================] - 3s 12ms/step - loss: 0.0089 - accuracy: 0.9973 - val_loss: 0.0425 - val_accuracy: 0.9878\n",
            "Epoch 12/20\n",
            "235/235 [==============================] - 2s 9ms/step - loss: 0.0061 - accuracy: 0.9980 - val_loss: 0.0323 - val_accuracy: 0.9903\n",
            "Epoch 13/20\n",
            "235/235 [==============================] - 2s 9ms/step - loss: 0.0064 - accuracy: 0.9979 - val_loss: 0.0379 - val_accuracy: 0.9893\n",
            "Epoch 14/20\n",
            "235/235 [==============================] - 2s 9ms/step - loss: 0.0044 - accuracy: 0.9986 - val_loss: 0.0429 - val_accuracy: 0.9890\n",
            "Epoch 15/20\n",
            "235/235 [==============================] - 2s 9ms/step - loss: 0.0062 - accuracy: 0.9978 - val_loss: 0.0552 - val_accuracy: 0.9877\n",
            "Epoch 16/20\n",
            "235/235 [==============================] - 2s 11ms/step - loss: 0.0075 - accuracy: 0.9973 - val_loss: 0.0449 - val_accuracy: 0.9879\n",
            "Epoch 17/20\n",
            "235/235 [==============================] - 2s 11ms/step - loss: 0.0118 - accuracy: 0.9957 - val_loss: 0.0395 - val_accuracy: 0.9892\n",
            "Epoch 18/20\n",
            "235/235 [==============================] - 2s 9ms/step - loss: 0.0039 - accuracy: 0.9988 - val_loss: 0.0491 - val_accuracy: 0.9881\n",
            "Epoch 19/20\n",
            "235/235 [==============================] - 2s 9ms/step - loss: 0.0043 - accuracy: 0.9985 - val_loss: 0.0374 - val_accuracy: 0.9895\n",
            "Epoch 20/20\n",
            "235/235 [==============================] - 2s 9ms/step - loss: 0.0052 - accuracy: 0.9982 - val_loss: 0.0389 - val_accuracy: 0.9893\n"
          ]
        }
      ]
    },
    {
      "cell_type": "markdown",
      "source": [
        "### Plot training curve"
      ],
      "metadata": {
        "id": "neZDXJlPIaDq"
      }
    },
    {
      "cell_type": "code",
      "source": [
        "plt.plot(history_no_regularization.history['loss'])\n",
        "plt.plot(history_no_regularization.history['val_loss'])\n",
        "plt.title('Model loss')\n",
        "plt.xlabel('Epoch')\n",
        "plt.ylabel('Loss')\n",
        "plt.legend(['Train', 'Test'], loc='upper left')\n",
        "plt.show()\n",
        "\n",
        "loss, accuracy = model.evaluate(X_valid, y_valid, verbose=0)\n",
        "print(\"Final Validation Accuracy (No regularization): {:.2f}%\".format(accuracy * 100))"
      ],
      "metadata": {
        "id": "8p4PdClU_hwL",
        "colab": {
          "base_uri": "https://localhost:8080/",
          "height": 489
        },
        "outputId": "cb635531-b18d-43ad-d2f0-7527aee16705"
      },
      "execution_count": 112,
      "outputs": [
        {
          "output_type": "display_data",
          "data": {
            "text/plain": [
              "<Figure size 640x480 with 1 Axes>"
            ],
            "image/png": "[encoded data removed]"
          },
          "metadata": {}
        },
        {
          "output_type": "stream",
          "name": "stdout",
          "text": [
            "Final Validation Accuracy (No regularization): 98.93%\n"
          ]
        }
      ]
    },
    {
      "cell_type": "markdown",
      "source": [
        "# Question 2에 해당하는 DropOut 적용 (0.3)"
      ],
      "metadata": {
        "id": "ZNBimtp4SnoW"
      }
    },
    {
      "cell_type": "code",
      "source": [
        "def ResNet7_with_dropout():\n",
        "  inputs = layers.Input(shape = (28, 28, 1))\n",
        "\n",
        "  #첫번째\n",
        "  x = layers.Conv2D(16, (7, 7), strides=2, padding='same', activation='relu')(inputs)\n",
        "\n",
        "  #두번째\n",
        "  x = ResidualBlock(x, 32, 3)\n",
        "\n",
        "  #세번째\n",
        "  x = layers.MaxPooling2D((2, 2), strides=3)(x)\n",
        "\n",
        "  #네번째\n",
        "  x = ResidualBlock(x, 64, 3)\n",
        "\n",
        "  #다섯번째\n",
        "  x = layers.MaxPooling2D((2, 2), strides=2)(x)\n",
        "\n",
        "  #여섯번재\n",
        "  x = layers.Flatten()(x)\n",
        "\n",
        "  #일곱번째\n",
        "  x = layers.Dense(100, activation='relu')(x)\n",
        "\n",
        "  #dropout 진행\n",
        "  x = layers.Dropout(0.3)(x)\n",
        "\n",
        "  #마지막 SOFTMAX\n",
        "  x = layers.Dense(10, activation='softmax')(x)\n",
        "\n",
        "  model = models.Model(inputs=inputs, outputs=x)\n",
        "\n",
        "  model.compile(loss='categorical_crossentropy',\n",
        "              optimizer=keras.optimizers.Adam(),\n",
        "              metrics=['accuracy'])\n",
        "\n",
        "\n",
        "  return model"
      ],
      "metadata": {
        "id": "AFQr-mgJTKuf"
      },
      "execution_count": 113,
      "outputs": []
    },
    {
      "cell_type": "code",
      "source": [
        "model_with_dropout  = ResNet7_with_dropout()"
      ],
      "metadata": {
        "id": "_ysBBeUwTsNo"
      },
      "execution_count": 114,
      "outputs": []
    },
    {
      "cell_type": "code",
      "source": [
        "history_with_dropout  = model_with_dropout.fit(\n",
        "    X_train,\n",
        "    y_train,\n",
        "    batch_size = 256,\n",
        "    epochs = 20,\n",
        "\t  verbose = 1,\n",
        "    validation_data=(X_valid, y_valid))"
      ],
      "metadata": {
        "colab": {
          "base_uri": "https://localhost:8080/"
        },
        "id": "h4klU4icTuvo",
        "outputId": "90356704-7d7f-4bb6-92a1-6ef1daf568a8"
      },
      "execution_count": 115,
      "outputs": [
        {
          "output_type": "stream",
          "name": "stdout",
          "text": [
            "Epoch 1/20\n",
            "235/235 [==============================] - 6s 11ms/step - loss: 0.3698 - accuracy: 0.8921 - val_loss: 1.6599 - val_accuracy: 0.3542\n",
            "Epoch 2/20\n",
            "235/235 [==============================] - 2s 9ms/step - loss: 0.0766 - accuracy: 0.9773 - val_loss: 0.0861 - val_accuracy: 0.9761\n",
            "Epoch 3/20\n",
            "235/235 [==============================] - 3s 11ms/step - loss: 0.0518 - accuracy: 0.9841 - val_loss: 0.0364 - val_accuracy: 0.9877\n",
            "Epoch 4/20\n",
            "235/235 [==============================] - 2s 9ms/step - loss: 0.0388 - accuracy: 0.9883 - val_loss: 0.0431 - val_accuracy: 0.9865\n",
            "Epoch 5/20\n",
            "235/235 [==============================] - 2s 9ms/step - loss: 0.0294 - accuracy: 0.9916 - val_loss: 0.0336 - val_accuracy: 0.9893\n",
            "Epoch 6/20\n",
            "235/235 [==============================] - 2s 9ms/step - loss: 0.0241 - accuracy: 0.9925 - val_loss: 0.0577 - val_accuracy: 0.9821\n",
            "Epoch 7/20\n",
            "235/235 [==============================] - 2s 9ms/step - loss: 0.0213 - accuracy: 0.9934 - val_loss: 0.0351 - val_accuracy: 0.9887\n",
            "Epoch 8/20\n",
            "235/235 [==============================] - 2s 10ms/step - loss: 0.0185 - accuracy: 0.9941 - val_loss: 0.0567 - val_accuracy: 0.9839\n",
            "Epoch 9/20\n",
            "235/235 [==============================] - 3s 11ms/step - loss: 0.0156 - accuracy: 0.9949 - val_loss: 0.0374 - val_accuracy: 0.9896\n",
            "Epoch 10/20\n",
            "235/235 [==============================] - 2s 9ms/step - loss: 0.0139 - accuracy: 0.9953 - val_loss: 0.0420 - val_accuracy: 0.9887\n",
            "Epoch 11/20\n",
            "235/235 [==============================] - 3s 11ms/step - loss: 0.0134 - accuracy: 0.9954 - val_loss: 0.0309 - val_accuracy: 0.9903\n",
            "Epoch 12/20\n",
            "235/235 [==============================] - 2s 9ms/step - loss: 0.0116 - accuracy: 0.9961 - val_loss: 0.0371 - val_accuracy: 0.9891\n",
            "Epoch 13/20\n",
            "235/235 [==============================] - 2s 9ms/step - loss: 0.0100 - accuracy: 0.9967 - val_loss: 0.0292 - val_accuracy: 0.9918\n",
            "Epoch 14/20\n",
            "235/235 [==============================] - 3s 11ms/step - loss: 0.0102 - accuracy: 0.9965 - val_loss: 0.0349 - val_accuracy: 0.9908\n",
            "Epoch 15/20\n",
            "235/235 [==============================] - 2s 9ms/step - loss: 0.0110 - accuracy: 0.9963 - val_loss: 0.0516 - val_accuracy: 0.9856\n",
            "Epoch 16/20\n",
            "235/235 [==============================] - 2s 9ms/step - loss: 0.0087 - accuracy: 0.9972 - val_loss: 0.0411 - val_accuracy: 0.9893\n",
            "Epoch 17/20\n",
            "235/235 [==============================] - 2s 10ms/step - loss: 0.0091 - accuracy: 0.9969 - val_loss: 0.0329 - val_accuracy: 0.9910\n",
            "Epoch 18/20\n",
            "235/235 [==============================] - 2s 9ms/step - loss: 0.0089 - accuracy: 0.9970 - val_loss: 0.0364 - val_accuracy: 0.9898\n",
            "Epoch 19/20\n",
            "235/235 [==============================] - 3s 11ms/step - loss: 0.0071 - accuracy: 0.9977 - val_loss: 0.0401 - val_accuracy: 0.9890\n",
            "Epoch 20/20\n",
            "235/235 [==============================] - 2s 10ms/step - loss: 0.0074 - accuracy: 0.9976 - val_loss: 0.0318 - val_accuracy: 0.9912\n"
          ]
        }
      ]
    },
    {
      "cell_type": "code",
      "source": [
        "plt.plot(history_with_dropout.history['loss'])\n",
        "plt.plot(history_with_dropout.history['val_loss'])\n",
        "plt.title('Model loss')\n",
        "plt.xlabel('Epoch')\n",
        "plt.ylabel('Loss')\n",
        "plt.legend(['Train', 'Test'], loc='upper left')\n",
        "plt.show()\n",
        "\n",
        "loss, accuracy = model_with_dropout.evaluate(X_valid, y_valid, verbose=0)\n",
        "print(\"Final Validation Accuracy (With dropout): {:.2f}%\".format(accuracy * 100))"
      ],
      "metadata": {
        "colab": {
          "base_uri": "https://localhost:8080/",
          "height": 489
        },
        "id": "rbd5rkLDT040",
        "outputId": "ab8b6b96-cb31-47cd-d578-db33e741896c"
      },
      "execution_count": 116,
      "outputs": [
        {
          "output_type": "display_data",
          "data": {
            "text/plain": [
              "<Figure size 640x480 with 1 Axes>"
            ],
            "image/png": "[encoded data removed]"
          },
          "metadata": {}
        },
        {
          "output_type": "stream",
          "name": "stdout",
          "text": [
            "Final Validation Accuracy (With dropout): 99.12%\n"
          ]
        }
      ]
    },
    {
      "cell_type": "markdown",
      "source": [
        "Question 3에 해당하는 DropOut 적용 (0.3) + 가중치  감소 L2 (0.001)\n"
      ],
      "metadata": {
        "id": "vdIe5j07UmgL"
      }
    },
    {
      "cell_type": "code",
      "source": [
        "from tensorflow.keras import regularizers\n",
        "\n",
        "def ResNet7_with_dropout_and_weight_decay():\n",
        "  inputs = layers.Input(shape = (28, 28, 1))\n",
        "\n",
        "  #첫번째\n",
        "  x = layers.Conv2D(16, (7, 7), strides=2, padding='same', activation='relu')(inputs)\n",
        "\n",
        "  #두번째\n",
        "  x = ResidualBlock(x, 32, 3)\n",
        "\n",
        "  #세번째\n",
        "  x = layers.MaxPooling2D((2, 2), strides=3)(x)\n",
        "\n",
        "  #네번째\n",
        "  x = ResidualBlock(x, 64, 3)\n",
        "\n",
        "  #다섯번째\n",
        "  x = layers.MaxPooling2D((2, 2), strides=2)(x)\n",
        "\n",
        "  #여섯번재\n",
        "  x = layers.Flatten()(x)\n",
        "\n",
        "  #일곱번째 L2 정규화, dropout 진행\n",
        "  x = layers.Dense(100, activation='relu', kernel_regularizer=regularizers.l2(0.001))(x)\n",
        "  x = layers.Dropout(0.3)(x)\n",
        "\n",
        "  #마지막 SOFTMAX\n",
        "  x = layers.Dense(10, activation='softmax')(x)\n",
        "\n",
        "  model = models.Model(inputs=inputs, outputs=x)\n",
        "\n",
        "  model.compile(loss='categorical_crossentropy',\n",
        "              optimizer=keras.optimizers.Adam(),\n",
        "              metrics=['accuracy'])\n",
        "\n",
        "\n",
        "  return model"
      ],
      "metadata": {
        "id": "SqNEVPUtUlQr"
      },
      "execution_count": 126,
      "outputs": []
    },
    {
      "cell_type": "code",
      "source": [
        "model_with_dropout_and_weight_decay = ResNet7_with_dropout_and_weight_decay()\n"
      ],
      "metadata": {
        "id": "niZNTTqNVLsk"
      },
      "execution_count": 127,
      "outputs": []
    },
    {
      "cell_type": "code",
      "source": [
        "history_with_dropout_and_weight_decay  = model_with_dropout_and_weight_decay.fit(\n",
        "    X_train,\n",
        "    y_train,\n",
        "    batch_size = 256,\n",
        "    epochs = 20,\n",
        "\t  verbose = 1,\n",
        "    validation_data=(X_valid, y_valid))"
      ],
      "metadata": {
        "colab": {
          "base_uri": "https://localhost:8080/"
        },
        "id": "sfgsQL9fVMDT",
        "outputId": "8281cdbf-4637-4679-9384-7484c8bed276"
      },
      "execution_count": 128,
      "outputs": [
        {
          "output_type": "stream",
          "name": "stdout",
          "text": [
            "Epoch 1/20\n",
            "235/235 [==============================] - 7s 13ms/step - loss: 0.4428 - accuracy: 0.9038 - val_loss: 1.0373 - val_accuracy: 0.8012\n",
            "Epoch 2/20\n",
            "235/235 [==============================] - 2s 10ms/step - loss: 0.1650 - accuracy: 0.9789 - val_loss: 0.1544 - val_accuracy: 0.9789\n",
            "Epoch 3/20\n",
            "235/235 [==============================] - 2s 9ms/step - loss: 0.1240 - accuracy: 0.9844 - val_loss: 0.0993 - val_accuracy: 0.9887\n",
            "Epoch 4/20\n",
            "235/235 [==============================] - 2s 9ms/step - loss: 0.0933 - accuracy: 0.9892 - val_loss: 0.0794 - val_accuracy: 0.9900\n",
            "Epoch 5/20\n",
            "235/235 [==============================] - 2s 9ms/step - loss: 0.0740 - accuracy: 0.9913 - val_loss: 0.0759 - val_accuracy: 0.9891\n",
            "Epoch 6/20\n",
            "235/235 [==============================] - 2s 10ms/step - loss: 0.0581 - accuracy: 0.9931 - val_loss: 0.0705 - val_accuracy: 0.9884\n",
            "Epoch 7/20\n",
            "235/235 [==============================] - 2s 10ms/step - loss: 0.0488 - accuracy: 0.9939 - val_loss: 0.0523 - val_accuracy: 0.9906\n",
            "Epoch 8/20\n",
            "235/235 [==============================] - 2s 9ms/step - loss: 0.0422 - accuracy: 0.9942 - val_loss: 0.0479 - val_accuracy: 0.9913\n",
            "Epoch 9/20\n",
            "235/235 [==============================] - 2s 9ms/step - loss: 0.0359 - accuracy: 0.9949 - val_loss: 0.0496 - val_accuracy: 0.9894\n",
            "Epoch 10/20\n",
            "235/235 [==============================] - 2s 9ms/step - loss: 0.0298 - accuracy: 0.9955 - val_loss: 0.0568 - val_accuracy: 0.9870\n",
            "Epoch 11/20\n",
            "235/235 [==============================] - 2s 9ms/step - loss: 0.0254 - accuracy: 0.9965 - val_loss: 0.0558 - val_accuracy: 0.9872\n",
            "Epoch 12/20\n",
            "235/235 [==============================] - 3s 12ms/step - loss: 0.0217 - accuracy: 0.9970 - val_loss: 0.0508 - val_accuracy: 0.9866\n",
            "Epoch 13/20\n",
            "235/235 [==============================] - 2s 10ms/step - loss: 0.0216 - accuracy: 0.9966 - val_loss: 0.0481 - val_accuracy: 0.9886\n",
            "Epoch 14/20\n",
            "235/235 [==============================] - 2s 9ms/step - loss: 0.0193 - accuracy: 0.9969 - val_loss: 0.0388 - val_accuracy: 0.9911\n",
            "Epoch 15/20\n",
            "235/235 [==============================] - 2s 9ms/step - loss: 0.0184 - accuracy: 0.9972 - val_loss: 0.0561 - val_accuracy: 0.9855\n",
            "Epoch 16/20\n",
            "235/235 [==============================] - 2s 9ms/step - loss: 0.0199 - accuracy: 0.9964 - val_loss: 0.0348 - val_accuracy: 0.9920\n",
            "Epoch 17/20\n",
            "235/235 [==============================] - 2s 10ms/step - loss: 0.0160 - accuracy: 0.9977 - val_loss: 0.0425 - val_accuracy: 0.9888\n",
            "Epoch 18/20\n",
            "235/235 [==============================] - 2s 10ms/step - loss: 0.0155 - accuracy: 0.9976 - val_loss: 0.0331 - val_accuracy: 0.9924\n",
            "Epoch 19/20\n",
            "235/235 [==============================] - 2s 9ms/step - loss: 0.0154 - accuracy: 0.9976 - val_loss: 0.0513 - val_accuracy: 0.9867\n",
            "Epoch 20/20\n",
            "235/235 [==============================] - 2s 9ms/step - loss: 0.0140 - accuracy: 0.9977 - val_loss: 0.0343 - val_accuracy: 0.9929\n"
          ]
        }
      ]
    },
    {
      "cell_type": "code",
      "source": [
        "plt.plot(history_with_dropout_and_weight_decay.history['loss'])\n",
        "plt.plot(history_with_dropout_and_weight_decay.history['val_loss'])\n",
        "plt.title('Model loss')\n",
        "plt.xlabel('Epoch')\n",
        "plt.ylabel('Loss')\n",
        "plt.legend(['Train', 'Test'], loc='upper left')\n",
        "plt.show()\n",
        "\n",
        "loss, accuracy = model_with_dropout_and_weight_decay.evaluate(X_valid, y_valid, verbose=0)\n",
        "print(\"Final Validation Accuracy (With dropout and weight decay): {:.2f}%\".format(accuracy * 100))"
      ],
      "metadata": {
        "colab": {
          "base_uri": "https://localhost:8080/",
          "height": 489
        },
        "id": "yq9bjShaVR7U",
        "outputId": "5ccbb3b2-db29-4960-f525-b54c43192a33"
      },
      "execution_count": 129,
      "outputs": [
        {
          "output_type": "display_data",
          "data": {
            "text/plain": [
              "<Figure size 640x480 with 1 Axes>"
            ],
            "image/png": "[encoded data removed]"
          },
          "metadata": {}
        },
        {
          "output_type": "stream",
          "name": "stdout",
          "text": [
            "Final Validation Accuracy (With dropout and weight decay): 99.29%\n"
          ]
        }
      ]
    },
    {
      "cell_type": "markdown",
      "source": [
        "### Question 1. Report training curve (Epoch vs. Loss) and final validation accuracy without any regularization method."
      ],
      "metadata": {
        "id": "s6zAW8mryjJG"
      }
    },
    {
      "cell_type": "markdown",
      "source": [
        "#### Answer:\n",
        "<img src = \"https://drive.google.com/uc?id=1EWyHxkw4CC7fngALJIhUHJMswdMqPd8I\">\n",
        "\n",
        "위와 같이 그래프가 출력된다.\n",
        "\n",
        "accuracy는 98.94%\n"
      ],
      "metadata": {
        "id": "58EjvDADy4Ut"
      }
    },
    {
      "cell_type": "markdown",
      "source": [
        "### Question 2. Report training curve (Epoch vs. Loss) and final validation accuracy with dropout applied (dropout rate: 0.3). Explain how you applied dropout on your code."
      ],
      "metadata": {
        "id": "vRaYuQ-RHenc"
      }
    },
    {
      "cell_type": "markdown",
      "source": [
        "#### Answer:\n",
        "<img src = \"https://drive.google.com/uc?id=14Tvar_lfOzeErxg0PO0Z44ZoquTqMaOG\">\n",
        "\n",
        "dropout 정규화가 적용된 모습이다.\n",
        "accuracy 는 99.02로 소폭 상승했다.\n",
        "\n",
        "드랍아웃이 적용된 코드는 하단에 첨부했다."
      ],
      "metadata": {
        "id": "gpZ5_SpyHhiN"
      }
    },
    {
      "cell_type": "code",
      "source": [
        "def ResNet7_with_dropout():\n",
        "  inputs = layers.Input(shape = (28, 28, 1))\n",
        "\n",
        "  #첫번째\n",
        "  x = layers.Conv2D(16, (7, 7), strides=2, padding='same', activation='relu')(inputs)\n",
        "\n",
        "  #두번째\n",
        "  x = ResidualBlock(x, 32, 3)\n",
        "\n",
        "  #세번째\n",
        "  x = layers.MaxPooling2D((2, 2), strides=3)(x)\n",
        "\n",
        "  #네번째\n",
        "  x = ResidualBlock(x, 64, 3)\n",
        "\n",
        "  #다섯번째\n",
        "  x = layers.MaxPooling2D((2, 2), strides=2)(x)\n",
        "\n",
        "  #여섯번재\n",
        "  x = layers.Flatten()(x)\n",
        "\n",
        "  #일곱번째\n",
        "  x = layers.Dense(100, activation='relu')(x)\n",
        "\n",
        "  #dropout 진행\n",
        "  x = layers.Dropout(0.3)(x)\n",
        "\n",
        "  #마지막 SOFTMAX\n",
        "  x = layers.Dense(10, activation='softmax')(x)\n",
        "\n",
        "  model = models.Model(inputs=inputs, outputs=x)\n",
        "\n",
        "  model.compile(loss='categorical_crossentropy',\n",
        "              optimizer=keras.optimizers.Adam(),\n",
        "              metrics=['accuracy'])\n",
        "\n",
        "\n",
        "  return model"
      ],
      "metadata": {
        "id": "W3DXcNQIc-KS"
      },
      "execution_count": null,
      "outputs": []
    },
    {
      "cell_type": "markdown",
      "source": [
        "softmax 적용하기 직전에\n",
        "  \n",
        "\n",
        "```python\n",
        "  #dropout 진행\n",
        "  x = layers.Dropout(0.3)(x)\n",
        "```\n",
        "\n",
        "\n",
        "\n",
        "해당 코드 추가"
      ],
      "metadata": {
        "id": "yw19DUeUdFdD"
      }
    },
    {
      "cell_type": "markdown",
      "source": [
        "### Question 3. Report training curve (Epoch vs. Loss) and final validation accuracy with dropout and weight decay applied (L2 regularization with 0.001). Explain how you applied weight decay on your code."
      ],
      "metadata": {
        "id": "wabLZ6-VHfv8"
      }
    },
    {
      "cell_type": "markdown",
      "source": [
        "#### Answer:\n",
        "<img src = \"https://drive.google.com/uc?id=1xHtEkin3gUCcm-S9QiTX8RS2kKePK108\">\n",
        "\n",
        "dropout 과 L2 정규화 모두 진행된 그래프다.\n",
        "accuracy는 99.23%로 dropout만 적용했을때보다 소폭 상승했다."
      ],
      "metadata": {
        "id": "fzXa2uhlHh8P"
      }
    },
    {
      "cell_type": "code",
      "source": [
        "from tensorflow.keras import regularizers\n",
        "\n",
        "def ResNet7_with_dropout_and_weight_decay():\n",
        "  inputs = layers.Input(shape = (28, 28, 1))\n",
        "\n",
        "  #첫번째\n",
        "  x = layers.Conv2D(16, (7, 7), strides=2, padding='same', activation='relu')(inputs)\n",
        "\n",
        "  #두번째\n",
        "  x = ResidualBlock(x, 32, 3)\n",
        "\n",
        "  #세번째\n",
        "  x = layers.MaxPooling2D((2, 2), strides=3)(x)\n",
        "\n",
        "  #네번째\n",
        "  x = ResidualBlock(x, 64, 3)\n",
        "\n",
        "  #다섯번째\n",
        "  x = layers.MaxPooling2D((2, 2), strides=2)(x)\n",
        "\n",
        "  #여섯번재\n",
        "  x = layers.Flatten()(x)\n",
        "\n",
        "  #일곱번째 L2 정규화, dropout 진행\n",
        "  x = layers.Dense(100, activation='relu', kernel_regularizer=regularizers.l2(0.001))(x)\n",
        "  x = layers.Dropout(0.3)(x)\n",
        "\n",
        "  #마지막 SOFTMAX\n",
        "  x = layers.Dense(10, activation='softmax')(x)\n",
        "\n",
        "  model = models.Model(inputs=inputs, outputs=x)\n",
        "\n",
        "  model.compile(loss='categorical_crossentropy',\n",
        "              optimizer=keras.optimizers.Adam(),\n",
        "              metrics=['accuracy'])\n",
        "\n",
        "\n",
        "  return model"
      ],
      "metadata": {
        "id": "RU8jinLfe2i7"
      },
      "execution_count": null,
      "outputs": []
    },
    {
      "cell_type": "markdown",
      "source": [
        "위는 L2 정규화와 드롭아웃 모두 적용한 코드이다\n",
        "\n",
        "마찬가지로 softmax 들어가기 직전에\n",
        "\n",
        "\n",
        "```python\n",
        "  #일곱번째 L2 정규화, dropout 진행\n",
        "  x = layers.Dense(100, activation='relu', kernel_regularizer=regularizers.l2(0.001))(x)\n",
        "  x = layers.Dropout(0.3)(x)\n",
        "\n",
        "```\n",
        "\n",
        "해당 코드 추가해주었다.\n",
        "\n"
      ],
      "metadata": {
        "id": "Thp6RH8Le4pm"
      }
    }
  ]
}